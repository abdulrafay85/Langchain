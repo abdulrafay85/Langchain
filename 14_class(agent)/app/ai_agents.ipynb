{
  "nbformat": 4,
  "nbformat_minor": 0,
  "metadata": {
    "colab": {
      "provenance": []
    },
    "kernelspec": {
      "name": "python3",
      "display_name": "Python 3"
    },
    "language_info": {
      "name": "python"
    }
  },
  "cells": [
    {
      "cell_type": "markdown",
      "source": [
        "### **AI agents** kya hain?\n",
        "Pichle century mein computing ke kai bade milestones aaye, jaise computer ka invention, internet, smartphone, machine learning aur cloud computing. Ab hum ek aur bade milestone ka hissa hain – AI agents.\n",
        "\n",
        "**AI agents**, jo large language models (LLMs) aur user data ki madad se kaam karte hain, naye aur powerful tools ban gaye hain. Yeh report batayegi ke AI agents kya hain, yeh kyun impactful hain, kab inhe use karna chahiye, aur kaise shuruat karein."
      ],
      "metadata": {
        "id": "fP71tsqbZHPz"
      }
    },
    {
      "cell_type": "markdown",
      "source": [
        "-------------\n",
        "\n",
        "<br/>\n",
        "\n",
        "\n",
        "### How Do AI Agents Relate to LLMs?\n",
        "\n",
        "1. LLMs (Large Language Models) kya hain? Yeh AI agents ke \"brains\" hain, yani AI ka asal system jo text ko samajhne aur jawab dene ke liye train hota hai. Har LLM ka apna specialization hota hai. Koi maths mein acha hota hai, koi jokes banata hai, aur koi language translate karne mein expert hota hai.  \n",
        "\n",
        "2. Ab AI agents aur LLMs ko car aur engine se compare karte hain. Car chalane ke liye engine zaroori hai, warna car move nahi kar sakti. Usi tarah, AI agents ka kaam bhi LLM ke bina possible nahi hai. Har car ka engine alag use ke liye bana hota hai, jaise sports car ka engine aur school bus ka engine different hoga. Waise hi, har AI agent apne kaam ke liye ek specific LLM use karta hai.  \n",
        "\n",
        "3. Ek example lo: GitHub Copilot. Yeh ek AI agent hai jo developers ko code likhne mein madad karta hai. Iska \"engine\" yani LLM code-related tasks ke liye banaya gaya hai, takay yeh apna kaam efficiently kare.  \n",
        "\n",
        "4. Aapko ek car chalani hai to engine ki technical details samajhne ki zarurat nahi hoti. Bas car use karni aani chahiye. Usi tarah, AI agents ko use karne ke liye LLM ki internal working samajhne ki zarurat nahi, sirf agent ka interface samajhna hota hai.  \n",
        "\n",
        "5. AI agents is liye popular ho rahe hain, kyun ke businesses aur researchers chahte hain ke LLMs har jagah use ho sakein aur humanity ke liye beneficial ban sakein. Lekin users ke liye in LLMs ka use asaan banane ke liye AI agents zaruri hain. Is liye inka development bohot fast ho raha hai.\n",
        "\n",
        "<br/>\n",
        "\n",
        "-------------\n",
        "\n"
      ],
      "metadata": {
        "id": "5HScDTT1dtOh"
      }
    },
    {
      "cell_type": "markdown",
      "source": [
        "-------------\n",
        "\n",
        "<br/>\n",
        "\n",
        "### Document Question and Answer Agents :-\n",
        "\n",
        "**Document Q&A agents kya hain?**  \n",
        "Yeh AI tools hain jo documents ke sawal jawab asaan banate hain. Agar aapke paas bohot saari files ya documents hain aur aapko unmein se specific information chahiye, to yeh agents aapko manual search ki mehnat se bacha lete hain. Bas aap unse natural language mein sawal karte ho, aur yeh aapko us document ka jawab de dete hain.  \n",
        "\n",
        "**Ek example se samjhte hain:**  \n",
        "Socho, tum ek naye company join karte ho, aur pehle din manager tumhare table par ek bada stack documents ka rakh deta hai aur bolta hai, \"HR busy hai, yeh documents padho aur samjho kaise kaam karna hai.\" Ab tumhe pata hai ke har document useful nahi hoga, aur sab padna time waste lagta hai.  \n",
        "\n",
        "Ab agar tumhare paas ek document Q&A agent ho, to kya hoga?  \n",
        "1. Yeh agent tumhare sare documents ko read aur store kar lega (AI ke memory mein).  \n",
        "2. Phir tum sirf apne sawal poochoge, jaise:  \n",
        "   - \"Kaunsa form mujhe fill karna hai?\"  \n",
        "   - \"Leave policy kya hai?\"  \n",
        "   - \"IT ka contact kaun hai?\"  \n",
        "3. Agent seedha relevant information batayega, bina time waste kare.  \n",
        "\n",
        "**Kaise kaam karta hai?**  \n",
        "- Yeh agent AI ka use karke documents ko samajhta hai aur unki important baatein consolidate karta hai.  \n",
        "- Jab tum sawal karte ho, to yeh search nahi karta, balki pehle se stored knowledge use karke seedha jawab deta hai.  \n",
        "- Interface bohot simple hota hai, jaise ek chat app jisme tum text likh ke jawab lete ho.  \n",
        "\n",
        "Yeh tools har jagah kaam aa sakte hain, jaise onboarding documents, policies samajhne, ya kisi report ke specific part ko samajhne ke liye. Bas ek question, aur instant answer!\n",
        "\n",
        "<br/>\n",
        "\n",
        "-------------\n",
        "\n"
      ],
      "metadata": {
        "id": "Eu86pCyEgBrP"
      }
    },
    {
      "cell_type": "markdown",
      "source": [
        "-------------\n",
        "\n",
        "<br/>\n",
        "\n",
        "### Chatbot Agents :-\n",
        "\n",
        "### **Chatbot Agents Kya Hain?**  \n",
        "Chatbot agents bhi AI tools hain jo natural language (insano wali boli) ko samajhte hain aur relevant jawab dete hain. Lekin yeh **Document Q&A agents** se zyada **dynamic** hote hain, kyun ke yeh ek wider range ke tasks handle kar sakte hain. Inka kaam **prompts** par based hota hai.  \n",
        "\n",
        "### **Prompt Kya Hai?**  \n",
        "Prompt woh specific instructions hain jo chatbot ko pehle se diye jate hain. Matlab, chatbot ko shuru se hi bataya jata hai ke uska kaam kya hai aur kis tarah se user ke saath interact karna hai.  \n",
        "\n",
        "---\n",
        "\n",
        "### **Example: BERTA Chatbot**  \n",
        "Very Fake Company ke IT department ne ek chatbot banaya hai jiska naam hai **BERTA (Bother Energetic Robot To Activate)**. BERTA ko is tarah program kiya gaya hai ke woh users ka IT-related kaam asaan kar sake, jaise unka proprietary code editor activate karna.  \n",
        "\n",
        "**Prompt jo IT ne BERTA ko diya:**  \n",
        "1. **Kaam:**  \n",
        "   - User ke email ko verify karna ke woh company ka employee hai ya nahi.  \n",
        "   - Database check karna ke user ko code editor ka access allowed hai ya nahi.  \n",
        "2. **Response Options:**  \n",
        "   - Agar user authorized hai, to unka permission activate karo aur unhe software key bhejo.  \n",
        "   - Agar user authorized nahi hai, to Janice Smith ko contact karne ka message do (email address ke saath).  \n",
        "\n",
        "---\n",
        "\n",
        "### **How BERTA Works (Ek Scenario):**  \n",
        "- Tum BERTA chatbot pe apna email dalte ho.  \n",
        "- BERTA tumhare email ko company ke database se verify karta hai.  \n",
        "- Agar tumhara authorization hai, to BERTA turant tumhe software key bhej dega.  \n",
        "- Agar authorization nahi hai, to woh politely guide karega ke tum Janice Smith ko email bhejo.  \n",
        "\n",
        "Yeh pura process automatically hota hai, aur kisi human IT staff ki zarurat nahi padti.  \n",
        "\n",
        "---\n",
        "\n",
        "### **Chatbot Agents vs Document Q&A Agents**  \n",
        "1. **Document Q&A Agents:**  \n",
        "   - Sirf unhi documents ke sawal ka jawab dete hain jo unhe diye gaye ho.  \n",
        "   - Static kaam karte hain (limited to documents).  \n",
        "\n",
        "2. **Chatbot Agents:**  \n",
        "   - Dynamic aur wide-ranging tasks karte hain, jaise databases ya third-party systems se interact karna.  \n",
        "   - 24/7 available hote hain aur user-friendly hote hain.  \n",
        "   - Multiple languages mein baat kar sakte hain aur different user behaviors handle karte hain (jaise polite ya rude users).  \n",
        "\n",
        "---\n",
        "\n",
        "### **Chatbot Agents Kyun Useful Hain?**  \n",
        "- **Efficiency:** Users ke repetitive questions handle karte hain bina kisi human staff ke.  \n",
        "- **Accessibility:** Har waqt (24/7) available hote hain.  \n",
        "- **Dynamic:** Sirf questions ka jawab nahi dete, balki tasks perform karte hain (e.g., access activate karna).  \n",
        "- **Scale:** Agar company ke pas bohot saare users ho aur har user ke liye help chahiye, chatbot agents workload easily manage karte hain.  \n",
        "\n",
        "---\n",
        "\n",
        "**Summary:**  \n",
        "Chatbot agents kaam ko asaan aur efficient banate hain, jahan users ke liye third-party systems (database, internet) se connect karna zaruri ho. BERTA jaise chatbot agents repetitive IT tasks handle karte hain, time bachate hain, aur better user experience dete hain. Agar tumhare paas complex aur frequent inquiries ho, to chatbot agents best solution hain!\n",
        "\n",
        "<br/>\n",
        "\n",
        "-------------\n",
        "\n"
      ],
      "metadata": {
        "id": "xmhMcNWsmXOS"
      }
    },
    {
      "cell_type": "markdown",
      "source": [
        "-------------\n",
        "\n",
        "<br/>\n",
        "\n",
        "# AI Agents Will Be The Key To Achieving ROI From AI :-\n",
        "\n",
        "### **AI Agent Kya Hai?**\n",
        "AI agent ek **autonomous application** hota hai jo **human aur AI ke beech collaboration** ko enable karta hai taake ek task complete ho sake. Yani, yeh ek aisa system hai jo apne aap decision le sakta hai aur actions perform kar sakta hai, lekin usko human ki taraf se direction milti hai.\n",
        "\n",
        "Iska matlab yeh hai ke AI agent apni soch aur kaam ko apne aap perform karta hai, bina har baar human ki madad ke.\n",
        "\n",
        "---\n",
        "\n",
        "### **Composite Aur Autonomous Application**\n",
        "\n",
        "- **Composite Application** ka matlab hai ke ek aisi application jo **multiple capabilities** ko combine karti hai. Jaise, ek AI agent multiple tasks perform kar sakta hai—**structured tasks** (programmatic actions) jaise credit check karna, aur **unstructured tasks** (natural language processing) jaise kisi user ke query ka jawab dena.\n",
        "    - Example: Agar tum AI agent se loan ke bare mein pooch rahe ho, to agent pehle tumhara credit score check karega, phir loan ka proposal banaega, aur tumhe bank ke terms ke sath answer dega. Yeh sab kuch apne aap ho sakta hai, bina tumhein multiple requests karne ki zarurat ke.\n",
        "\n",
        "- **Autonomous** ka matlab hai ke agent ko kaafi **freedom** di jaati hai. Matlab, yeh agent apne aap kaafi simple tasks handle kar sakta hai, aur agar koi complex problem aaye to woh human ko involve kar sakta hai.\n",
        "    - Example: Agar ek company ka 80% customer queries easily solve ho sakti hain, to AI agent un queries ko handle kar lega, aur sirf jo exceptions hain (jo AI agent ke liye mushkil hain) unko human ko forward karega.\n",
        "\n",
        "---\n",
        "\n",
        "### **AI Agent vs Chatbot**\n",
        "\n",
        "Ab **AI agents** aur **chatbots** mein farq samajhna zaroori hai:\n",
        "\n",
        "- **Chatbots**: Yeh sirf user ke input ke jawab dete hain, jaise ke tumne ek question poocha, aur yeh ek response denge. Lekin chatbot sirf tumhare question ka jawab de sakta hai, usse aage kaam nahi kar sakta.\n",
        "    - Example: Agar tum chatbot se poochte ho \"Mujhe loan ka proposal de do,\" to yeh bas ek response dega, par yeh loan ka proposal create nahi karega.\n",
        "\n",
        "- **AI Agents**: Yeh chatbots se zyada intelligent aur capable hote hain. AI agent tumhara task samajh kar usko complete karne ke liye apne aap decisions leta hai aur actions perform karta hai.\n",
        "    - Example: Agar tum AI agent se poochte ho \"Mujhe loan ka proposal chahiye,\" to woh tumhara credit score check karega, loan terms set karega, aur proposal generate karke tumhe dega.\n",
        "\n",
        "---\n",
        "\n",
        "### **Collaboration: Human Aur AI ka Kaam Saath Mein**\n",
        "\n",
        "AI agents ka purpose yeh nahi hai ke woh jobs le lein. AI agents ka kaam **humans ke sath collaborate** karna hai. Yeh agents humans ke diye hue rules, workflows, aur success criteria ko follow karte hain, lekin decision-making aur actions agent ke upar hote hain.\n",
        "\n",
        "Matlab, **hum humans** AI agent ko kaam delegat karte hain, lekin final decisions kabhi bhi humans ke paas hi hote hain. AI agents ka kaam hai tasks ko efficiently perform karna, aur agar koi task unke liye mushkil ho, to woh human ko involve karte hain.\n",
        "\n",
        "---\n",
        "\n",
        "### **AI Agents Ka Role Aur Future**\n",
        "\n",
        "AI agents ki capabilities zyada flexible hoti hain, aur wo apne aap tasks ko handle karte hain. Agar ek business ke paas 100 customer queries hain, to AI agent 80 simple queries solve karega, aur 20 complex queries ko human ke paas bhej dega.\n",
        "\n",
        "Is tarah AI agents ka main focus yeh hota hai ke woh humans ki madad karein taake work ko efficiently handle kiya ja sake. AI agents apne kaam ko **autonomously** karte hain, lekin woh humans ke input aur guidance ke bina complete nahi karte.\n",
        "\n",
        "---\n",
        "\n",
        "### **Summary**\n",
        "- **AI agents** ek type ki **autonomous application** hain jo human aur AI ko collaborate karne ka moka deti hain.\n",
        "- Yeh agents **multiple tasks** ko combine karte hain, aur apne aap kaafi simple aur structured tasks ko solve kar sakte hain.\n",
        "- **Chatbots** sirf user input ke jawab dete hain, lekin **AI agents** apne aap tasks complete karte hain.\n",
        "- **Collaboration** ka matlab hai ke humans AI agents ko task delegate karte hain, lekin final decision humans ke paas hota hai.\n",
        "\n",
        "AI agents ka main role yeh hai ke woh repetitive aur simple tasks ko apne aap handle karte hain, jisse human ka kaam zyada productive aur efficient hota hai.\n",
        "\n",
        "<br/>\n",
        "\n",
        "-------------"
      ],
      "metadata": {
        "id": "vHU5ZsXrEjo9"
      }
    },
    {
      "cell_type": "markdown",
      "source": [
        "-------------\n",
        "\n",
        "<br/>\n",
        "\n",
        "### Why Agents Matter — The Business Explanation\n",
        "AI agents businesses ke liye kafi faida mand ho sakte hain, kyun ke yeh repetitive aur time-consuming tasks ko automate kar sakte hain. Iska matlab yeh hai ke businesses ke employees ko apna zyada waqt important aur high-level tasks par dene ka moka milta hai jo AI agents automate nahi kar sakte.\n",
        "\n",
        "Jab AI copilots aur chatbots ko launch kiya gaya tha, to unhone yeh value proposition diya tha ke yeh basic tasks automate karenge. Lekin **AI agents** is se kaafi aage hain aur unse **aur zyada benefits milte hain**. Ye benefits kuch is tarah hain:\n",
        "\n",
        "### **1. Workflow Automation**\n",
        "AI agents ko businesses ke repetitive tasks ko automate karne ke liye design kiya gaya hai. Jaise:\n",
        "- **Data gathering**: Information ko collect karna jo har din ki zarurat hoti hai.\n",
        "- **Report preparation**: Regular reports tayar karna jo decision-making ke liye zaroori hote hain.\n",
        "\n",
        "Isse employees ko har din ke chhote kaam se free kar diya jata hai, aur unka waqt zyada complex aur important tasks ke liye save hota hai.\n",
        "\n",
        "### **2. Time Savings**\n",
        "AI agents ke through, businesses ko apne time ka better utilization milta hai. Repetitive aur mundane tasks ko handle kar ke, agents humans ko allow karte hain ke wo zyada creative aur strategic tasks par focus kar sakein.\n",
        "\n",
        "### **3. Human Focus on High-Level Tasks**\n",
        "AI agents un tasks ko handle karte hain jo manual processing ki zarurat hoti hai, lekin woh tasks jo **complex decision-making** ya **strategic planning** se related hote hain, unhein humans handle karte hain. Yeh businesses ko time aur resources efficiently manage karne ka moka deta hai.\n",
        "\n",
        "### **4. Efficiency in Daily Operations**\n",
        "AI agents businesses ki daily operations ko streamline karte hain. Chhoti mistakes aur delays ko kam karte hain, jo typically humans ke interaction mein hoti hain. AI agents yeh kaam quickly aur accurately karte hain.\n",
        "\n",
        "### **5. Scalability**\n",
        "Jab business ka scale badhta hai, toh zyada processes, data, aur reports handle karni padti hain. AI agents yeh tasks effortlessly handle kar sakte hain, jis se businesses apni growth ko smoothly manage kar sakte hain bina extra resources ko hire kiye.\n",
        "\n",
        "### **Conclusion**\n",
        "AI agents ek powerful tool hain jo businesses ko repetitive tasks se free kar ke high-level decision making aur creative tasks pe focus karne ka moka dete hain. Yeh unki efficiency ko badhate hain aur unko growth aur innovation ki taraf focus karne ka space dete hain.\n",
        "\n",
        "<br/>\n",
        "\n",
        "-------------\n",
        "\n"
      ],
      "metadata": {
        "id": "lAu76XQ5V26z"
      }
    },
    {
      "cell_type": "markdown",
      "source": [
        "-------------\n",
        "\n",
        "<br/>\n",
        "\n",
        "*AI agents wo tools hain jo users ko LLMs (Large Language Models) ke sath interact karne ka tareeqa dete hain, takay wo apni workflow ko zyada productive ya creative banake seamlessly kaam kar saken*\n",
        "\n",
        "### Samajhne ka tareeqa:\n",
        "1. **AI Agents ka Role:** Ye tools ek bridge ka kaam karte hain users aur powerful AI models ke darmiyan.\n",
        "2. **Workflow Improvement:** Inka purpose hai ke kaam ko zyada asaan aur creative banaya jaye.\n",
        "3. **Seamless Interaction:** Ye ensure karte hain ke users bina kisi friction ke (e.g., technical complications) apne kaam ko efficiently complete kar saken.\n",
        "\n",
        "Aap isko AI assistants ya platforms ke examples (like ChatGPT ya AI-powered design tools) se relate kar ke asani se samajh sakte hain.\n",
        "\n",
        "<br/>\n",
        "\n",
        "-------------\n",
        "\n",
        "\n"
      ],
      "metadata": {
        "id": "bQ0dJJGMvOEO"
      }
    },
    {
      "cell_type": "markdown",
      "source": [
        "-----------\n",
        "\n",
        "</br>\n",
        "\n",
        "*AI agents ko UI 'wrappers' samjha ja sakta hai jo un models ke ird-gird hote hain jo unhein chalate hain. Matlab, AI agents aksar user-friendly 'frontends' hote hain jo un models ko use karna asaan banate hain jo unhein power dete hain. Ye aksar is tarah kaam karte hain ke users ka interaction models ke sath focus aur limit kar diya jata hai.*\n",
        "\n",
        "<br/>\n",
        "\n",
        "----------"
      ],
      "metadata": {
        "id": "iz-X1T1WsGvi"
      }
    },
    {
      "cell_type": "markdown",
      "source": [
        "![agent](https://langchain-ai.github.io/langgraph/concepts/img/agent_types.png)"
      ],
      "metadata": {
        "id": "IdcTKl3Twq2P"
      }
    },
    {
      "cell_type": "markdown",
      "source": [
        "---------\n",
        "\n",
        "<br/>\n",
        "\n",
        "*LLMs are the brains of the operation—the “AI” in\n",
        "AI agents.*\n",
        "\n",
        "<br/>\n",
        "\n",
        "-----\n",
        "\n",
        "<br/>\n",
        "\n",
        "*AI agents as cars, while the models that fuel them can\n",
        "be thought of as their engines.*\n",
        "\n",
        "<br/>\n",
        "\n",
        "---------\n",
        "\n",
        "<br/>\n",
        "\n",
        "*An artificial intelligence **(AI) agent is a software program that can interact with its environment, collect data, and use the data to perform self-determined tasks to meet predetermined goals.** **Humans set goals, but an AI agent independently chooses the best actions it needs to perform to achieve those goals.** For example, consider a contact center AI agent that wants to resolves customer queries. The agent will automatically ask the customer different questions, look up information in internal documents, and respond with a solution. Based on the customer responses, it determines if it can resolve the query itself or pass it on to a human.*"
      ],
      "metadata": {
        "id": "XnHRQnx4xRNM"
      }
    }
  ]
}